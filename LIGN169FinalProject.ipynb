{
 "cells": [
  {
   "cell_type": "markdown",
   "id": "71d515da-0c71-4aeb-89ee-17994e27eded",
   "metadata": {},
   "source": [
    "# Surprisal and Entropy of Function and Content Words\n",
    "Kaitlyn Chou, LIGN 169 Winter 2025"
   ]
  },
  {
   "cell_type": "markdown",
   "id": "da8012b7-53b5-4ac2-9bd7-622c14b83f41",
   "metadata": {},
   "source": [
    "## Introduction"
   ]
  },
  {
   "cell_type": "markdown",
   "id": "32271df5-aab0-4169-9824-4fc32e16477b",
   "metadata": {},
   "source": [
    "All English words can be categorized into two main groups. Function words have grammatical functions and are a closed class, meaning there is a limited and mostly unchanging set of them that are used by speakers. Generally, function words are defined as determiners (e.g. *the*, *a*, *this*), quantifiers (*some*, *much*), prepositions (*of*, *through*), conjunctions (*and*, *but*, *because*), auxiliary verbs (*be*, *do*, *have*), modal verbs (*could*, *must*), and pronouns (*he*, *their*).<sup><a href=\"#footnote1\">[1]</a></sup> Content words are all words that aren’t function words, and they refer to some thing, concept, or idea in the world. Thus, they include all nouns, verbs, adjectives, and adverbs. Language users are always adding new content words to the dictionary and conversational vocabulary, which makes content words an open class.\n",
    "\n",
    "Function words often occupy specific positions in sentences in order to form grammatical sentences. For example, articles always come before nouns and conjunctions always link together two clauses or phrases. Since function words are more frequent in language and they are used in very specific structures, it seems to follow that they are also more predictable. In information theory, the surprisal, or information content, of the next word is defined by the negative log probability of the word given the context (all the words before it). The larger the surprisal value is, the more “surprised” you would be to see the word and thus the more information it gives. The entropy, or uncertainty of the next word, is essentially a weighted average of all of the surprisals. I would suspect that the surprisal of function words is lower than that of content words because the structure of a sentence’s context sets up a particular position for a function word to occupy. This may also mean lower entropy/uncertainty, because the context of a sentence often makes it clear (less uncertain) that the next word should be a function word. This project seeks to investigate this hypothesis and quantify the difference between the predictability of function and content words using an autoregressive language model, GPT-2, which predicts the next word in a stream of text. This notebook will first outline the methods of cleaning the corpus, choosing a list of words, and calculating the surprisal and entropy values of each word. Then, the analysis portion will focus on how the two groups (function/content) differ from each other as well as an exploration of distinctions by part of speech.\n"
   ]
  },
  {
   "cell_type": "markdown",
   "id": "b0c5d9d1-63d4-4bcb-94e6-7e265ae4f036",
   "metadata": {},
   "source": [
    "## Methods"
   ]
  },
  {
   "cell_type": "markdown",
   "id": "060e09b6-aac2-4a1e-8131-aa252fc9cce2",
   "metadata": {},
   "source": [
    "### Function Words"
   ]
  },
  {
   "cell_type": "markdown",
   "id": "b0c353ab-9daa-497c-b8f1-3f71537b0c54",
   "metadata": {},
   "source": [
    "I will be investigating and comparing the surprisal and entropy of a small sample of function and content words. For my list of function words, I am using the nltk stopwords as a basis and adding more words manually based on the common function words from the corpus. This is not an exhaustive list, but it will be used to separate the function words from the most common words in the corpus. I took a subset of these words to actually use in my list of test words."
   ]
  },
  {
   "cell_type": "code",
   "execution_count": 1,
   "id": "0f113a37-44ee-4ee0-883e-3a942c4fd647",
   "metadata": {},
   "outputs": [
    {
     "name": "stderr",
     "output_type": "stream",
     "text": [
      "C:\\Users\\Kaitlyn Chou\\AppData\\Local\\Temp\\ipykernel_16348\\4218350674.py:1: DeprecationWarning: \n",
      "Pyarrow will become a required dependency of pandas in the next major release of pandas (pandas 3.0),\n",
      "(to allow more performant data types, such as the Arrow string type, and better interoperability with other libraries)\n",
      "but was not found to be installed on your system.\n",
      "If this would cause problems for you,\n",
      "please provide us feedback at https://github.com/pandas-dev/pandas/issues/54466\n",
      "        \n",
      "  import pandas as pd\n"
     ]
    }
   ],
   "source": [
    "import pandas as pd\n",
    "import numpy as np\n",
    "import seaborn as sns\n",
    "import random\n",
    "import re\n",
    "import matplotlib.pyplot as plt\n",
    "import nltk\n",
    "import warnings\n",
    "warnings.filterwarnings('ignore')"
   ]
  },
  {
   "cell_type": "code",
   "execution_count": 111,
   "id": "18447c98-3f91-4e6d-a58c-23ef3564fef0",
   "metadata": {},
   "outputs": [
    {
     "name": "stdout",
     "output_type": "stream",
     "text": [
      "[\"'cause\", \"'em\", 'a', 'about', 'above', 'after', 'again', 'against', 'ain', \"ain't\", 'all', 'also', 'although', 'am', 'an', \"an'\", 'and', 'any', 'anyone', 'anything', 'are', 'aren', \"aren't\", 'as', 'at', 'be', 'because', 'been', 'before', 'being', 'below', 'between', 'both', 'but', 'by', 'can', \"can't\", 'cannot', 'could', \"could've\", 'couldn', \"couldn't\", 'd', 'did', 'didn', \"didn't\", 'do', 'does', 'doesn', \"doesn't\", 'doing', 'don', \"don't\", 'down', 'during', 'each', 'either', 'erm', 'everyone', 'few', 'for', 'from', 'further', 'gotta', 'had', 'hadn', \"hadn't\", 'hafta', 'has', 'hasn', \"hasn't\", 'have', 'haven', \"haven't\", 'having', 'he', \"he'd\", \"he'll\", \"he's\", 'her', 'here', \"here's\", 'hers', 'herself', 'hey', 'him', 'himself', 'his', 'how', 'however', 'huh', 'i', \"i'd\", \"i'll\", \"i'm\", \"i've\", 'if', 'in', 'into', 'is', 'isn', \"isn't\", 'it', \"it'd\", \"it'll\", \"it's\", 'its', 'itself', 'just', 'll', 'm', 'ma', 'me', 'mhm', 'might', 'mightn', \"mightn't\", 'more', 'most', 'much', 'must', 'mustn', \"mustn't\", 'my', 'myself', 'needn', \"needn't\", 'neither', 'no', 'nor', 'not', 'nothing', 'now', 'o', 'of', 'off', 'oh', 'ok', 'okay', 'on', 'once', 'only', 'ooh', 'or', 'other', 'ought', 'our', 'ours', 'ourselves', 'out', 'over', 'own', 're', 's', 'same', 'shall', 'shan', \"shan't\", 'she', \"she'd\", \"she'll\", \"she's\", \"she's\", 'should', \"should've\", 'shouldn', \"shouldn't\", 'since', 'so', 'some', 'somebody', 'someone', 'something', 'such', 't', 'than', 'that', \"that'll\", \"that's\", 'the', 'their', 'theirs', 'them', 'themselves', 'then', 'there', \"there's\", 'these', 'they', \"they'd\", \"they'll\", \"they're\", \"they've\", 'this', 'those', 'through', 'to', 'too', 'towards', 'uhhuh', 'under', 'until', 'up', 've', 'very', 'was', 'wasn', \"wasn't\", 'we', \"we'd\", \"we'll\", \"we're\", \"we've\", 'were', 'weren', \"weren't\", 'what', \"what're\", \"what's\", 'whatever', 'when', 'where', \"where's\", 'which', 'while', 'who', \"who's\", 'whom', 'whose', 'why', 'will', 'with', 'without', 'won', \"won't\", 'would', \"would've\", 'wouldn', \"wouldn't\", 'y', 'yeah', 'yes', 'yet', 'you', \"you'd\", \"you'll\", \"you're\", \"you've\", 'your', 'yours', 'yourself', 'yourselves']\n"
     ]
    },
    {
     "name": "stderr",
     "output_type": "stream",
     "text": [
      "[nltk_data] Downloading package stopwords to C:\\Users\\Kaitlyn\n",
      "[nltk_data]     Chou\\AppData\\Roaming\\nltk_data...\n",
      "[nltk_data]   Package stopwords is already up-to-date!\n"
     ]
    }
   ],
   "source": [
    "from nltk.corpus import stopwords\n",
    "nltk.download('stopwords')\n",
    "\n",
    "funcs = stopwords.words('english')\n",
    "funcs = funcs + ['although', 'anything', 'anyone', \"ain't\", 'also', \"an'\", \"'cause\", \"can't\", 'cannot', \"'em\", 'however', \"here's\", 'neither', 'must', 'shall', 'since', \n",
    "                 'somebody', 'someone', 'gotta', 'could', \"could've\", \"what's\", \"what're\", 'would', \"would've\", 'whose', \"who's\", 'whatever', 'without', 'yes', 'yeah', 'yet', 'towards', 'oh', \n",
    "                 'ok', 'okay', \"that's\", 'ought', \"where's\", \"there's\", \"she's\", 'ooh', 'uhhuh', 'erm', 'everyone', 'either', 'much', 'might', 'something', 'huh', 'hafta', 'mhm', 'hey', 'nothing']\n",
    "funcs.sort()\n",
    "print(funcs)"
   ]
  },
  {
   "cell_type": "code",
   "execution_count": 98,
   "id": "06d48f20-9f1c-4eb4-b981-35bbc9059840",
   "metadata": {},
   "outputs": [],
   "source": [
    "function = ['about', 'above', 'after', 'against', 'although', 'any', 'because', 'before', 'below', 'between', 'cannot', 'could', 'doing', 'during', 'either', 'further', 'here', 'hers', 'how', 'if', 'into', 'just', 'must', 'my', 'neither', 'only', 'ought', 'shall', 'should', 'since', 'some', 'than', 'their', 'there', 'these', 'they', 'those', 'through', 'too', 'towards', 'under', 'until', 'when', 'while', 'whom', 'whose', 'why', 'would', 'yet']"
   ]
  },
  {
   "cell_type": "markdown",
   "id": "795c0a48-5ebf-4080-a0d9-0e31473833bd",
   "metadata": {},
   "source": [
    "### Content Words"
   ]
  },
  {
   "cell_type": "markdown",
   "id": "05434f78-9e9e-4aba-9fc8-dddd3d1dc5ff",
   "metadata": {},
   "source": [
    "For the content words, I will be randomly sampling from the BabyLM corpus.<sup><a href=\"#footnote2\">[2]</a></sup> The training corpus consists of six sources which include transcripted dialogue, Simple English Wikipedia, and fiction text. The preprocessing of the corpus consisted of removing special characters (only apostrophes are kept), lowering case, stripping extra whitespace, and splitting by paragraph. The surprisal of any first word in a sequence is 0 by convention since there is no prior context,<sup><a href=\"#footnote3\">[3]</a></sup> so I then removed all sequences in the corpus with only one word, as they wouldn’t add anything to the entropy of the word."
   ]
  },
  {
   "cell_type": "code",
   "execution_count": 3,
   "id": "12a893c7-8c7c-42ae-9301-456691206fed",
   "metadata": {},
   "outputs": [],
   "source": [
    "# read in text files\n",
    "wiki = open(\"simple_wiki.train\", encoding='utf-8').read()\n",
    "guten = open(\"gutenberg.train\", encoding='utf-8').read()\n",
    "guten = re.sub(\"’\", \"'\", guten, flags=re.MULTILINE)\n",
    "bnc = open(\"bnc_spoken.train\", encoding='utf-8').read()\n",
    "child = open(\"childes.train\", encoding='utf-8').read()\n",
    "child = re.sub(r'\\*CHI:|\\*MOT:|\\*COL:|\\*RIC:|\\*FAT:|\\*URS:|\\t', \"\", child, flags=re.MULTILINE)\n",
    "switch = open(\"switchboard.train\", encoding='utf-8').read()\n",
    "switch = re.sub(r'A:|B:|\\t', \"\", switch, flags=re.MULTILINE)\n",
    "sub = open(\"open_subtitles.train\", encoding='utf-8').read()\n",
    "\n",
    "corpus = []\n",
    "# clean text\n",
    "for text in [wiki, guten, bnc, child, switch, sub]:\n",
    "    text_split = re.split(r'\\n', text, flags=re.MULTILINE)\n",
    "    text_split = [re.sub(r\"[^a-zA-Z\\d\\s']\", \"\", x) for x in text_split]\n",
    "    text_split = [x.strip().lower() for x in text_split]\n",
    "    corpus = corpus + text_split\n",
    "corpus = [s for s in corpus if s != \"\"]"
   ]
  },
  {
   "cell_type": "code",
   "execution_count": 4,
   "id": "7434d533-506d-4ddf-a282-dddcb9d57954",
   "metadata": {},
   "outputs": [],
   "source": [
    "# delete all sentences with only one word or too many tokens for the token_score function\n",
    "corpus_tokenized = [sequence.split() for sequence in corpus]\n",
    "corpus_tokenized = [s for s in corpus_tokenized if (s != []) and (1<len(s)<512)]\n",
    "for sequence in corpus_tokenized: \n",
    "    sequence = [x.strip() for x in sequence]\n",
    "corpus = [' '.join(sequence) for sequence in corpus_tokenized]"
   ]
  },
  {
   "cell_type": "markdown",
   "id": "165a6c54-88d8-4ba9-bff5-aa20504da76f",
   "metadata": {},
   "source": [
    "To obtain my list of content words, I counted all the words in the corpus and randomly sampled 60 common words (500th-1000th most frequent) and 15 relatively uncommon words (3000th-3500th most frequent). I limited these to exclude the list of function words, and to be real words as conditioned by the nltk words corpus."
   ]
  },
  {
   "cell_type": "code",
   "execution_count": 6,
   "id": "289109ca-e1d9-4c8e-95bf-7b482ca85529",
   "metadata": {},
   "outputs": [],
   "source": [
    "# count common and relatively uncommon words\n",
    "from collections import Counter\n",
    "\n",
    "counter = Counter()\n",
    "for sentence in corpus_tokenized:\n",
    "    counter.update(sentence)\n",
    "\n",
    "common = [word[0] for word in counter.most_common()[500:1000]]\n",
    "uncommon = [word[0] for word in counter.most_common()[3000:3500]]"
   ]
  },
  {
   "cell_type": "code",
   "execution_count": 7,
   "id": "f99021c3-85c9-4f74-9bcd-465e118b761a",
   "metadata": {},
   "outputs": [
    {
     "name": "stderr",
     "output_type": "stream",
     "text": [
      "[nltk_data] Downloading package words to C:\\Users\\Kaitlyn\n",
      "[nltk_data]     Chou\\AppData\\Roaming\\nltk_data...\n",
      "[nltk_data]   Package words is already up-to-date!\n"
     ]
    },
    {
     "name": "stdout",
     "output_type": "stream",
     "text": [
      "['area', 'week', 'ride', 'lunch', 'strong', 'spoon', 'knew', 'couple', 'anyway', 'cry', 'free', 'small', 'star', 'full', 'circle', 'peter', 'running', 'hurry', 'leaves', 'straight', 'truck', 'background', 'wow', 'bunny', 'holding', 'drop', 'moment', 'giving', 'turns', 'works', 'station', 'perhaps', 'born', 'wash', 'coffee', 'apple', 'favorite', 'animal', 'bus', 'city', 'alone', 'glad', 'cried', 'eight', 'true', 'line', 'wet', 'letter', 'nose', 'lie', 'wear', 'state', 'blow', 'company', 'busy', 'sun', 'lion', 'blood', 'mike', 'married', 'split', 'location', 'han', 'lick', 'messy', 'hopefully', 'pray', 'splash', 'drug', 'tasty', 'cutie', 'shadow', 'burned', 'kingdom', 'fashion']\n"
     ]
    }
   ],
   "source": [
    "from nltk.corpus import words\n",
    "nltk.download('words')\n",
    "\n",
    "# randomly sample common and relatively uncommon words\n",
    "common_filtered = [word for word in common if (word not in funcs) and (len(word) > 2) and (word in set(words.words()))]\n",
    "uncommon_filtered = [word for word in uncommon if (word not in funcs) and (len(word) > 2) and (word in set(words.words()))]\n",
    "\n",
    "random.seed(25)\n",
    "common_content = random.sample(common_filtered, 60)\n",
    "uncommon_content = random.sample(uncommon_filtered, 15)\n",
    "content = common_content + uncommon_content\n",
    "print(content)"
   ]
  },
  {
   "cell_type": "code",
   "execution_count": 9,
   "id": "cc324866-8063-4cc8-baac-bd7d2ff9ee5f",
   "metadata": {},
   "outputs": [],
   "source": [
    "test_words = set(content + function)"
   ]
  },
  {
   "cell_type": "markdown",
   "id": "fc4774f8-bfa6-4288-83cd-ec31cb5cf12c",
   "metadata": {},
   "source": [
    "The last step in preparing for the calculations of surprisals and entropy was to filter the corpus to only include sentences which contain the words of interest, so that we don't spend computing power on sentences that do not contain any of these words."
   ]
  },
  {
   "cell_type": "code",
   "execution_count": 11,
   "id": "314a825f-fe07-4ec4-b58c-12d616cb5fe1",
   "metadata": {},
   "outputs": [],
   "source": [
    "corpus_filtered_tokenized = [s for s in corpus_tokenized if any(word in test_words for word in s)]\n",
    "corpus_filtered = [' '.join(s) for s in corpus_filtered_tokenized]"
   ]
  },
  {
   "cell_type": "markdown",
   "id": "bd1a7084-c9e8-4496-9d85-1c94c8e325aa",
   "metadata": {},
   "source": [
    "### Calculate Surprisals"
   ]
  },
  {
   "cell_type": "markdown",
   "id": "62db6c30-04cf-40b3-9a5e-82ccdee7cbee",
   "metadata": {},
   "source": [
    "To calculate the surprisal and entropy of my list of words, I am using the minicons library, which has a token_score() function that takes a sentence and returns the surprisal of each token given all of the context before it. In the following code, for each sequence in the filtered corpus, token_score calculates $I(w_i) = -\\log_2(P(w_i  | w_1, w_2, ... w_{i-1}))$ for every $w_i$ in the sequence and saves this surprisal value for each instance of each test word. This was the most time consuming step since several thousand sentences had to be fed into the function. After this was completed, I saved the words, their corresponding lists of surprisals, and their word type in a pandas DataFrame for further analysis."
   ]
  },
  {
   "cell_type": "code",
   "execution_count": 13,
   "id": "6f2e230c-6d09-441e-953c-2a21de86995d",
   "metadata": {},
   "outputs": [],
   "source": [
    "from minicons import scorer\n",
    "import torch\n",
    "from torch.utils.data import DataLoader\n",
    "import json"
   ]
  },
  {
   "cell_type": "code",
   "execution_count": 14,
   "id": "765475d7-2ef0-481e-b751-c843152e7f1f",
   "metadata": {},
   "outputs": [],
   "source": [
    "model = scorer.IncrementalLMScorer('gpt2', 'cpu')\n",
    "surprisals = {word: [] for word in test_words} \n",
    "for i in range(len(corpus_filtered)):\n",
    "    all_surprisals = model.token_score(corpus_filtered[i], surprisal = True, base_two = True)\n",
    "    for token in all_surprisals[0]:\n",
    "        if token[0] in test_words:\n",
    "            surprisals[token[0]].append(token[1])"
   ]
  },
  {
   "cell_type": "code",
   "execution_count": 63,
   "id": "28d2811c-d6c8-4b7f-a9fc-569aa9f960d8",
   "metadata": {},
   "outputs": [],
   "source": [
    "# create dataframe to organize list of words, surprisals, and word type\n",
    "df = pd.DataFrame(list(surprisals.items()), columns=['Word', 'Surprisals'])\n",
    "df['Type'] = df['Word'].apply(lambda x: 'Function' if x in function else 'Content')"
   ]
  },
  {
   "cell_type": "markdown",
   "id": "e419e93d-fd14-49be-9a37-d8834c2de442",
   "metadata": {},
   "source": [
    "### Calculate Entropies"
   ]
  },
  {
   "cell_type": "markdown",
   "id": "5d9a9f6e-829c-4c72-b2c0-b720b89e4257",
   "metadata": {},
   "source": [
    "Next I calculated the entropy for each word which is calculated by summing each surprisal value multiplied by the probability of that word. Since the function directly computed surprisal without providing probabilities first, probability is expressed as $2^{-I(w_i)}$."
   ]
  },
  {
   "cell_type": "code",
   "execution_count": 64,
   "id": "b6d36f53-3dad-4c6b-924d-5ea1247f7a6e",
   "metadata": {},
   "outputs": [],
   "source": [
    "def get_entropy(surprisals):\n",
    "    return sum((2**(-x))*x for x in surprisals)\n",
    "df['Entropy'] = df['Surprisals'].apply(get_entropy)"
   ]
  },
  {
   "cell_type": "markdown",
   "id": "b8faba08-a26a-4885-aa7f-6f078c5523a7",
   "metadata": {},
   "source": [
    "## Analysis & Results"
   ]
  },
  {
   "cell_type": "markdown",
   "id": "f3b9f70f-167f-4e7b-93bb-93e164139fd3",
   "metadata": {},
   "source": [
    "### Mean Surprisals"
   ]
  },
  {
   "cell_type": "markdown",
   "id": "1b8c40ee-05f3-422e-bcdd-b7bcf4c3c9e3",
   "metadata": {},
   "source": [
    "The mean surprisal for each word is obtained by averaging all of the surprisal values of each instance of the word in the corpus. The 10 words with lowest and highest mean surprisal are listed below. Notably, all of the words with lowest mean surprisal are function words, and nearly all the words with highest mean surprisal are content words. This does appear to suggest that function words have lower surprisal values overall."
   ]
  },
  {
   "cell_type": "code",
   "execution_count": 83,
   "id": "d42bc35e-10fe-4d60-8a31-c3c2265bd903",
   "metadata": {},
   "outputs": [
    {
     "data": {
      "text/html": [
       "<div>\n",
       "<style scoped>\n",
       "    .dataframe tbody tr th:only-of-type {\n",
       "        vertical-align: middle;\n",
       "    }\n",
       "\n",
       "    .dataframe tbody tr th {\n",
       "        vertical-align: top;\n",
       "    }\n",
       "\n",
       "    .dataframe thead th {\n",
       "        text-align: right;\n",
       "    }\n",
       "</style>\n",
       "<table border=\"1\" class=\"dataframe\">\n",
       "  <thead>\n",
       "    <tr style=\"text-align: right;\">\n",
       "      <th></th>\n",
       "      <th>Word</th>\n",
       "      <th>Type</th>\n",
       "      <th>Mean Surprisal</th>\n",
       "    </tr>\n",
       "  </thead>\n",
       "  <tbody>\n",
       "    <tr>\n",
       "      <th>21</th>\n",
       "      <td>than</td>\n",
       "      <td>Function</td>\n",
       "      <td>2.740686</td>\n",
       "    </tr>\n",
       "    <tr>\n",
       "      <th>34</th>\n",
       "      <td>why</td>\n",
       "      <td>Function</td>\n",
       "      <td>3.871773</td>\n",
       "    </tr>\n",
       "    <tr>\n",
       "      <th>29</th>\n",
       "      <td>how</td>\n",
       "      <td>Function</td>\n",
       "      <td>3.964358</td>\n",
       "    </tr>\n",
       "    <tr>\n",
       "      <th>60</th>\n",
       "      <td>shall</td>\n",
       "      <td>Function</td>\n",
       "      <td>4.695943</td>\n",
       "    </tr>\n",
       "    <tr>\n",
       "      <th>81</th>\n",
       "      <td>about</td>\n",
       "      <td>Function</td>\n",
       "      <td>4.751260</td>\n",
       "    </tr>\n",
       "    <tr>\n",
       "      <th>17</th>\n",
       "      <td>if</td>\n",
       "      <td>Function</td>\n",
       "      <td>4.901727</td>\n",
       "    </tr>\n",
       "    <tr>\n",
       "      <th>62</th>\n",
       "      <td>because</td>\n",
       "      <td>Function</td>\n",
       "      <td>4.947022</td>\n",
       "    </tr>\n",
       "    <tr>\n",
       "      <th>99</th>\n",
       "      <td>they</td>\n",
       "      <td>Function</td>\n",
       "      <td>4.996709</td>\n",
       "    </tr>\n",
       "    <tr>\n",
       "      <th>57</th>\n",
       "      <td>although</td>\n",
       "      <td>Function</td>\n",
       "      <td>5.214869</td>\n",
       "    </tr>\n",
       "    <tr>\n",
       "      <th>104</th>\n",
       "      <td>doing</td>\n",
       "      <td>Function</td>\n",
       "      <td>5.220090</td>\n",
       "    </tr>\n",
       "  </tbody>\n",
       "</table>\n",
       "</div>"
      ],
      "text/plain": [
       "         Word      Type  Mean Surprisal\n",
       "21       than  Function        2.740686\n",
       "34        why  Function        3.871773\n",
       "29        how  Function        3.964358\n",
       "60      shall  Function        4.695943\n",
       "81      about  Function        4.751260\n",
       "17         if  Function        4.901727\n",
       "62    because  Function        4.947022\n",
       "99       they  Function        4.996709\n",
       "57   although  Function        5.214869\n",
       "104     doing  Function        5.220090"
      ]
     },
     "execution_count": 83,
     "metadata": {},
     "output_type": "execute_result"
    }
   ],
   "source": [
    "df['Mean Surprisal'] = df['Surprisals'].apply(lambda x: sum(x) / len(x) if x else None)\n",
    "df[['Word', 'Type', 'Mean Surprisal']].sort_values(by='Mean Surprisal').head(10)"
   ]
  },
  {
   "cell_type": "code",
   "execution_count": 99,
   "id": "555baca7-d392-4ca9-a235-a352d4098597",
   "metadata": {},
   "outputs": [
    {
     "data": {
      "text/html": [
       "<div>\n",
       "<style scoped>\n",
       "    .dataframe tbody tr th:only-of-type {\n",
       "        vertical-align: middle;\n",
       "    }\n",
       "\n",
       "    .dataframe tbody tr th {\n",
       "        vertical-align: top;\n",
       "    }\n",
       "\n",
       "    .dataframe thead th {\n",
       "        text-align: right;\n",
       "    }\n",
       "</style>\n",
       "<table border=\"1\" class=\"dataframe\">\n",
       "  <thead>\n",
       "    <tr style=\"text-align: right;\">\n",
       "      <th></th>\n",
       "      <th>Word</th>\n",
       "      <th>Type</th>\n",
       "      <th>Mean Surprisal</th>\n",
       "    </tr>\n",
       "  </thead>\n",
       "  <tbody>\n",
       "    <tr>\n",
       "      <th>59</th>\n",
       "      <td>tasty</td>\n",
       "      <td>Content</td>\n",
       "      <td>14.283998</td>\n",
       "    </tr>\n",
       "    <tr>\n",
       "      <th>105</th>\n",
       "      <td>pray</td>\n",
       "      <td>Content</td>\n",
       "      <td>14.372381</td>\n",
       "    </tr>\n",
       "    <tr>\n",
       "      <th>9</th>\n",
       "      <td>spoon</td>\n",
       "      <td>Content</td>\n",
       "      <td>14.375836</td>\n",
       "    </tr>\n",
       "    <tr>\n",
       "      <th>122</th>\n",
       "      <td>hopefully</td>\n",
       "      <td>Content</td>\n",
       "      <td>14.432848</td>\n",
       "    </tr>\n",
       "    <tr>\n",
       "      <th>117</th>\n",
       "      <td>lion</td>\n",
       "      <td>Content</td>\n",
       "      <td>14.621517</td>\n",
       "    </tr>\n",
       "    <tr>\n",
       "      <th>56</th>\n",
       "      <td>lick</td>\n",
       "      <td>Content</td>\n",
       "      <td>14.767992</td>\n",
       "    </tr>\n",
       "    <tr>\n",
       "      <th>15</th>\n",
       "      <td>bunny</td>\n",
       "      <td>Content</td>\n",
       "      <td>15.093943</td>\n",
       "    </tr>\n",
       "    <tr>\n",
       "      <th>63</th>\n",
       "      <td>neither</td>\n",
       "      <td>Function</td>\n",
       "      <td>15.190907</td>\n",
       "    </tr>\n",
       "    <tr>\n",
       "      <th>100</th>\n",
       "      <td>splash</td>\n",
       "      <td>Content</td>\n",
       "      <td>15.591504</td>\n",
       "    </tr>\n",
       "    <tr>\n",
       "      <th>75</th>\n",
       "      <td>cried</td>\n",
       "      <td>Content</td>\n",
       "      <td>16.150021</td>\n",
       "    </tr>\n",
       "  </tbody>\n",
       "</table>\n",
       "</div>"
      ],
      "text/plain": [
       "          Word      Type  Mean Surprisal\n",
       "59       tasty   Content       14.283998\n",
       "105       pray   Content       14.372381\n",
       "9        spoon   Content       14.375836\n",
       "122  hopefully   Content       14.432848\n",
       "117       lion   Content       14.621517\n",
       "56        lick   Content       14.767992\n",
       "15       bunny   Content       15.093943\n",
       "63     neither  Function       15.190907\n",
       "100     splash   Content       15.591504\n",
       "75       cried   Content       16.150021"
      ]
     },
     "execution_count": 99,
     "metadata": {},
     "output_type": "execute_result"
    }
   ],
   "source": [
    "df[['Word', 'Type', 'Mean Surprisal']].sort_values(by='Mean Surprisal').tail(10)"
   ]
  },
  {
   "cell_type": "markdown",
   "id": "ae3502c1-5f41-4a20-8d6b-7702be564061",
   "metadata": {},
   "source": [
    "After averaging the mean surprisal value for all function words and all content words, it can be seen that function words indeed tend to have lower surprisals than content words. Function words have an average surprisal of 7.04 bits while content words have an average surprisal of 10.41 bits."
   ]
  },
  {
   "cell_type": "code",
   "execution_count": 45,
   "id": "864b29b3-6f5d-41ad-b095-1ecfafbffb6d",
   "metadata": {},
   "outputs": [
    {
     "name": "stdout",
     "output_type": "stream",
     "text": [
      "Average of mean surprisal for function words: 7.04 bits\n",
      "Average of mean surprisal for content words: 10.41 bits\n"
     ]
    }
   ],
   "source": [
    "function_avg = df[df['Type']=='Function']['Mean Surprisal'].mean()\n",
    "content_avg= df[df['Type']=='Content']['Mean Surprisal'].mean()\n",
    "print(\"Average of mean surprisal for function words: \" + f\"{function_avg:.2f}\" + \" bits\")\n",
    "print(\"Average of mean surprisal for content words: \" + f\"{content_avg:.2f}\" + \" bits\")"
   ]
  },
  {
   "cell_type": "markdown",
   "id": "710338c7-024e-4c33-b7b0-9539f273df81",
   "metadata": {},
   "source": [
    "The following visualizations show the spread of mean surprisals for content and function words. In the histogram, the means of each group are shown as dotted lines. A large number of function words have mean surprisals that lie between 6 and 7 bits, while many content words have surprisals that lie between 9 and 10 bits. The function words have a slightly right-skewed distribution while the content words have a more normal distribution."
   ]
  },
  {
   "cell_type": "code",
   "execution_count": 46,
   "id": "5a198f23-cdf7-4e4c-8f1c-e3b31ed6081a",
   "metadata": {},
   "outputs": [
    {
     "data": {
      "image/png": "[encoded data removed]",
      "text/plain": [
       "<Figure size 800x600 with 1 Axes>"
      ]
     },
     "metadata": {},
     "output_type": "display_data"
    }
   ],
   "source": [
    "import seaborn as sns\n",
    "plt.figure(figsize=(8, 6))\n",
    "sns.histplot(data=df, x='Mean Surprisal', hue='Type', kde=True, binwidth=1, alpha=0.7, palette={'Function': '#ffa366', 'Content': '#99ccff'})\n",
    "plt.axvline(function_avg, color='red', linestyle='--')\n",
    "plt.axvline(content_avg, color='blue', linestyle='--')\n",
    "plt.xlabel('Mean Surprisal in bits')\n",
    "plt.ylabel('Frequency')\n",
    "plt.title('Mean Surprisals by Word Type')\n",
    "plt.show()"
   ]
  },
  {
   "cell_type": "markdown",
   "id": "85feaee5-8863-4bb2-9b6e-f5a991108783",
   "metadata": {},
   "source": [
    "The boxplot below shows another representation of the differences in mean surprisals by word type. The medians between the two groups show a similar difference as the means, and the 1st and 3rd quartiles give a sense of how far apart the middle 50% of each group is. "
   ]
  },
  {
   "cell_type": "code",
   "execution_count": 36,
   "id": "c096ca0b-d6c3-4cba-938b-b0a92ce761d2",
   "metadata": {},
   "outputs": [
    {
     "data": {
      "image/png": "[encoded data removed]",
      "text/plain": [
       "<Figure size 800x600 with 1 Axes>"
      ]
     },
     "metadata": {},
     "output_type": "display_data"
    }
   ],
   "source": [
    "plt.figure(figsize=(8, 6))\n",
    "sns.boxplot(data=df, x='Type', y='Mean Surprisal', palette={'Function': '#ffa366', 'Content': '#99ccff'})\n",
    "plt.title('Distribution of Mean Surprisal by Word Type')\n",
    "plt.xlabel('Word Type')\n",
    "plt.ylabel('Mean Surprisal')\n",
    "plt.show()"
   ]
  },
  {
   "cell_type": "markdown",
   "id": "1fcc3f9d-8a42-4424-b6db-4eaa277a920c",
   "metadata": {},
   "source": [
    "### Entropy"
   ]
  },
  {
   "cell_type": "markdown",
   "id": "d11da0e0-9ccc-4623-af93-f74214de5a4e",
   "metadata": {},
   "source": [
    "Contrary to the pattern with mean surprisals, the words with highest entropy are function words while the words with lowest entropy are mostly content words. However, the words with high entropies have very unusually high entropies; this might be because these words occur so frequently in so many contexts with an even probability distribution which leads to high uncertainty, and also because the corpus does not sample all contexts in which the words appear. Likewise, words like \"lick,\" \"burned,\" and \"messy\" might have lower entropies because they occur in more specific, predictable contexts."
   ]
  },
  {
   "cell_type": "code",
   "execution_count": 101,
   "id": "d4b2c4a0-fde6-49ed-bdda-0969a81a5598",
   "metadata": {
    "scrolled": true
   },
   "outputs": [
    {
     "data": {
      "text/html": [
       "<div>\n",
       "<style scoped>\n",
       "    .dataframe tbody tr th:only-of-type {\n",
       "        vertical-align: middle;\n",
       "    }\n",
       "\n",
       "    .dataframe tbody tr th {\n",
       "        vertical-align: top;\n",
       "    }\n",
       "\n",
       "    .dataframe thead th {\n",
       "        text-align: right;\n",
       "    }\n",
       "</style>\n",
       "<table border=\"1\" class=\"dataframe\">\n",
       "  <thead>\n",
       "    <tr style=\"text-align: right;\">\n",
       "      <th></th>\n",
       "      <th>Word</th>\n",
       "      <th>Type</th>\n",
       "      <th>Entropy</th>\n",
       "    </tr>\n",
       "  </thead>\n",
       "  <tbody>\n",
       "    <tr>\n",
       "      <th>119</th>\n",
       "      <td>some</td>\n",
       "      <td>Function</td>\n",
       "      <td>461.944692</td>\n",
       "    </tr>\n",
       "    <tr>\n",
       "      <th>21</th>\n",
       "      <td>than</td>\n",
       "      <td>Function</td>\n",
       "      <td>467.731840</td>\n",
       "    </tr>\n",
       "    <tr>\n",
       "      <th>46</th>\n",
       "      <td>just</td>\n",
       "      <td>Function</td>\n",
       "      <td>489.493581</td>\n",
       "    </tr>\n",
       "    <tr>\n",
       "      <th>17</th>\n",
       "      <td>if</td>\n",
       "      <td>Function</td>\n",
       "      <td>584.053884</td>\n",
       "    </tr>\n",
       "    <tr>\n",
       "      <th>104</th>\n",
       "      <td>doing</td>\n",
       "      <td>Function</td>\n",
       "      <td>777.592795</td>\n",
       "    </tr>\n",
       "    <tr>\n",
       "      <th>24</th>\n",
       "      <td>here</td>\n",
       "      <td>Function</td>\n",
       "      <td>882.460906</td>\n",
       "    </tr>\n",
       "    <tr>\n",
       "      <th>99</th>\n",
       "      <td>they</td>\n",
       "      <td>Function</td>\n",
       "      <td>1003.364241</td>\n",
       "    </tr>\n",
       "    <tr>\n",
       "      <th>85</th>\n",
       "      <td>there</td>\n",
       "      <td>Function</td>\n",
       "      <td>1032.433999</td>\n",
       "    </tr>\n",
       "    <tr>\n",
       "      <th>84</th>\n",
       "      <td>my</td>\n",
       "      <td>Function</td>\n",
       "      <td>1294.895258</td>\n",
       "    </tr>\n",
       "    <tr>\n",
       "      <th>81</th>\n",
       "      <td>about</td>\n",
       "      <td>Function</td>\n",
       "      <td>1324.724033</td>\n",
       "    </tr>\n",
       "  </tbody>\n",
       "</table>\n",
       "</div>"
      ],
      "text/plain": [
       "      Word      Type      Entropy\n",
       "119   some  Function   461.944692\n",
       "21    than  Function   467.731840\n",
       "46    just  Function   489.493581\n",
       "17      if  Function   584.053884\n",
       "104  doing  Function   777.592795\n",
       "24    here  Function   882.460906\n",
       "99    they  Function  1003.364241\n",
       "85   there  Function  1032.433999\n",
       "84      my  Function  1294.895258\n",
       "81   about  Function  1324.724033"
      ]
     },
     "execution_count": 101,
     "metadata": {},
     "output_type": "execute_result"
    }
   ],
   "source": [
    "df[['Word', 'Type', 'Entropy']].sort_values(by='Entropy').tail(10)"
   ]
  },
  {
   "cell_type": "code",
   "execution_count": 100,
   "id": "d98697cf-06a1-4eec-9ec8-fdb10c15bdf2",
   "metadata": {
    "scrolled": true
   },
   "outputs": [
    {
     "data": {
      "text/html": [
       "<div>\n",
       "<style scoped>\n",
       "    .dataframe tbody tr th:only-of-type {\n",
       "        vertical-align: middle;\n",
       "    }\n",
       "\n",
       "    .dataframe tbody tr th {\n",
       "        vertical-align: top;\n",
       "    }\n",
       "\n",
       "    .dataframe thead th {\n",
       "        text-align: right;\n",
       "    }\n",
       "</style>\n",
       "<table border=\"1\" class=\"dataframe\">\n",
       "  <thead>\n",
       "    <tr style=\"text-align: right;\">\n",
       "      <th></th>\n",
       "      <th>Word</th>\n",
       "      <th>Type</th>\n",
       "      <th>Entropy</th>\n",
       "    </tr>\n",
       "  </thead>\n",
       "  <tbody>\n",
       "    <tr>\n",
       "      <th>57</th>\n",
       "      <td>although</td>\n",
       "      <td>Function</td>\n",
       "      <td>0.034166</td>\n",
       "    </tr>\n",
       "    <tr>\n",
       "      <th>63</th>\n",
       "      <td>neither</td>\n",
       "      <td>Function</td>\n",
       "      <td>0.057603</td>\n",
       "    </tr>\n",
       "    <tr>\n",
       "      <th>122</th>\n",
       "      <td>hopefully</td>\n",
       "      <td>Content</td>\n",
       "      <td>0.064995</td>\n",
       "    </tr>\n",
       "    <tr>\n",
       "      <th>100</th>\n",
       "      <td>splash</td>\n",
       "      <td>Content</td>\n",
       "      <td>0.147553</td>\n",
       "    </tr>\n",
       "    <tr>\n",
       "      <th>56</th>\n",
       "      <td>lick</td>\n",
       "      <td>Content</td>\n",
       "      <td>0.169955</td>\n",
       "    </tr>\n",
       "    <tr>\n",
       "      <th>120</th>\n",
       "      <td>shadow</td>\n",
       "      <td>Content</td>\n",
       "      <td>0.234517</td>\n",
       "    </tr>\n",
       "    <tr>\n",
       "      <th>12</th>\n",
       "      <td>burned</td>\n",
       "      <td>Content</td>\n",
       "      <td>0.320368</td>\n",
       "    </tr>\n",
       "    <tr>\n",
       "      <th>105</th>\n",
       "      <td>pray</td>\n",
       "      <td>Content</td>\n",
       "      <td>0.327518</td>\n",
       "    </tr>\n",
       "    <tr>\n",
       "      <th>36</th>\n",
       "      <td>perhaps</td>\n",
       "      <td>Content</td>\n",
       "      <td>0.345333</td>\n",
       "    </tr>\n",
       "    <tr>\n",
       "      <th>70</th>\n",
       "      <td>messy</td>\n",
       "      <td>Content</td>\n",
       "      <td>0.357500</td>\n",
       "    </tr>\n",
       "  </tbody>\n",
       "</table>\n",
       "</div>"
      ],
      "text/plain": [
       "          Word      Type   Entropy\n",
       "57    although  Function  0.034166\n",
       "63     neither  Function  0.057603\n",
       "122  hopefully   Content  0.064995\n",
       "100     splash   Content  0.147553\n",
       "56        lick   Content  0.169955\n",
       "120     shadow   Content  0.234517\n",
       "12      burned   Content  0.320368\n",
       "105       pray   Content  0.327518\n",
       "36     perhaps   Content  0.345333\n",
       "70       messy   Content  0.357500"
      ]
     },
     "execution_count": 100,
     "metadata": {},
     "output_type": "execute_result"
    }
   ],
   "source": [
    "df[['Word', 'Type', 'Entropy']].sort_values(by='Entropy').head(10)"
   ]
  },
  {
   "cell_type": "markdown",
   "id": "855ceb00-1afb-405b-9156-6336e4310864",
   "metadata": {},
   "source": [
    "The histogram shows that function words have an extremely wide and varied distribution of entropy while the content words are all clustered at the low entropy end. This is a very different pattern than what was seen in the mean surprisals plot."
   ]
  },
  {
   "cell_type": "code",
   "execution_count": 49,
   "id": "07257829-5d9b-45e4-ad32-b554eba5c739",
   "metadata": {},
   "outputs": [
    {
     "data": {
      "image/png": "[encoded data removed]",
      "text/plain": [
       "<Figure size 800x600 with 1 Axes>"
      ]
     },
     "metadata": {},
     "output_type": "display_data"
    }
   ],
   "source": [
    "plt.figure(figsize=(8, 6))\n",
    "sns.histplot(data=df, x='Entropy', hue='Type', bins=30, alpha=0.6, palette={'Function': '#ffa366', 'Content': '#99ccff'})\n",
    "plt.xlabel('Entropy in bits')\n",
    "plt.ylabel('Frequency')\n",
    "plt.title('Distribution of Entropy of Words by Word Type')\n",
    "plt.show()"
   ]
  },
  {
   "cell_type": "markdown",
   "id": "062f379a-3e4c-4591-8d6d-8b076899f35b",
   "metadata": {},
   "source": [
    "### Grouping by Part of Speech"
   ]
  },
  {
   "cell_type": "markdown",
   "id": "8e62acf6-f05c-47ff-ab2c-fd8db7ba8774",
   "metadata": {},
   "source": [
    "I was also interested in differences in surprisal/entropy at a more granular level of distinction than function vs. content words. I added part of speech (POS) as a column to the table, using nltk's part of speech tagging function. Their distinctions are more granular than I need, so I grouped together some labels (with the help of [this guide](https://www.learntek.org/blog/categorizing-pos-tagging-nltk-python/)) and recoded them to be more informative."
   ]
  },
  {
   "cell_type": "code",
   "execution_count": 75,
   "id": "22f9cceb-3676-4aba-817c-55b8f0c1ee7b",
   "metadata": {},
   "outputs": [
    {
     "data": {
      "text/html": [
       "<div>\n",
       "<style scoped>\n",
       "    .dataframe tbody tr th:only-of-type {\n",
       "        vertical-align: middle;\n",
       "    }\n",
       "\n",
       "    .dataframe tbody tr th {\n",
       "        vertical-align: top;\n",
       "    }\n",
       "\n",
       "    .dataframe thead th {\n",
       "        text-align: right;\n",
       "    }\n",
       "</style>\n",
       "<table border=\"1\" class=\"dataframe\">\n",
       "  <thead>\n",
       "    <tr style=\"text-align: right;\">\n",
       "      <th></th>\n",
       "      <th>Word</th>\n",
       "      <th>Type</th>\n",
       "      <th>POS</th>\n",
       "    </tr>\n",
       "  </thead>\n",
       "  <tbody>\n",
       "    <tr>\n",
       "      <th>0</th>\n",
       "      <td>free</td>\n",
       "      <td>Content</td>\n",
       "      <td>JJ</td>\n",
       "    </tr>\n",
       "    <tr>\n",
       "      <th>1</th>\n",
       "      <td>between</td>\n",
       "      <td>Function</td>\n",
       "      <td>IN</td>\n",
       "    </tr>\n",
       "    <tr>\n",
       "      <th>2</th>\n",
       "      <td>below</td>\n",
       "      <td>Function</td>\n",
       "      <td>IN</td>\n",
       "    </tr>\n",
       "    <tr>\n",
       "      <th>3</th>\n",
       "      <td>cannot</td>\n",
       "      <td>Function</td>\n",
       "      <td>NN</td>\n",
       "    </tr>\n",
       "    <tr>\n",
       "      <th>4</th>\n",
       "      <td>background</td>\n",
       "      <td>Content</td>\n",
       "      <td>NN</td>\n",
       "    </tr>\n",
       "    <tr>\n",
       "      <th>5</th>\n",
       "      <td>since</td>\n",
       "      <td>Function</td>\n",
       "      <td>IN</td>\n",
       "    </tr>\n",
       "    <tr>\n",
       "      <th>6</th>\n",
       "      <td>these</td>\n",
       "      <td>Function</td>\n",
       "      <td>DT</td>\n",
       "    </tr>\n",
       "    <tr>\n",
       "      <th>7</th>\n",
       "      <td>married</td>\n",
       "      <td>Content</td>\n",
       "      <td>JJ</td>\n",
       "    </tr>\n",
       "    <tr>\n",
       "      <th>8</th>\n",
       "      <td>sun</td>\n",
       "      <td>Content</td>\n",
       "      <td>NN</td>\n",
       "    </tr>\n",
       "    <tr>\n",
       "      <th>9</th>\n",
       "      <td>spoon</td>\n",
       "      <td>Content</td>\n",
       "      <td>NN</td>\n",
       "    </tr>\n",
       "  </tbody>\n",
       "</table>\n",
       "</div>"
      ],
      "text/plain": [
       "         Word      Type POS\n",
       "0        free   Content  JJ\n",
       "1     between  Function  IN\n",
       "2       below  Function  IN\n",
       "3      cannot  Function  NN\n",
       "4  background   Content  NN\n",
       "5       since  Function  IN\n",
       "6       these  Function  DT\n",
       "7     married   Content  JJ\n",
       "8         sun   Content  NN\n",
       "9       spoon   Content  NN"
      ]
     },
     "execution_count": 75,
     "metadata": {},
     "output_type": "execute_result"
    }
   ],
   "source": [
    "from nltk.tag import pos_tag\n",
    "df['POS'] = df['Word'].apply(lambda x: nltk.pos_tag([x])[0][1])\n",
    "df[['Word', 'Type', 'POS']].head(10)"
   ]
  },
  {
   "cell_type": "markdown",
   "id": "e8954e82-1da0-4cad-aadd-43a4211ad88d",
   "metadata": {},
   "source": [
    "Since these words were tagged without context, words that can have multiple parts of speech (e.g. \"leaves\" as the plural of \"leaf\" or as the third person singular present tense form of \"leave\") may have been tagged arbitrarily. There were also some words that were just tagged incorrectly, which I manually fixed. "
   ]
  },
  {
   "cell_type": "code",
   "execution_count": 76,
   "id": "7bcce678-4cdf-4084-b45e-d3ea938a9769",
   "metadata": {},
   "outputs": [],
   "source": [
    "# manually adjusting wrong tags\n",
    "df.loc[df['Word'] == 'cannot', 'POS'] = 'MD'\n",
    "df.loc[df['Word'] == 'hers', 'POS'] = 'PRP$'\n",
    "df.loc[df['Word'] == 'wet', 'POS'] = 'JJ'\n",
    "df.loc[df['Word'] == 'glad', 'POS'] = 'JJ'\n",
    "df.loc[df['Word'] == 'towards', 'POS'] = 'IN'"
   ]
  },
  {
   "cell_type": "code",
   "execution_count": 77,
   "id": "32ab93ed-e97f-470e-bd80-8f26b85664b3",
   "metadata": {},
   "outputs": [
    {
     "data": {
      "text/plain": [
       "array(['JJ', 'IN', 'MD', 'NN', 'DT', 'CD', 'VBN', 'RB', 'NNS', 'WP$',\n",
       "       'WRB', 'PRP$', 'VBG', 'WP', 'PRP'], dtype=object)"
      ]
     },
     "execution_count": 77,
     "metadata": {},
     "output_type": "execute_result"
    }
   ],
   "source": [
    "df['POS'].unique()"
   ]
  },
  {
   "cell_type": "code",
   "execution_count": 79,
   "id": "2b574a3b-ad8f-404b-bca0-d1432109a3ee",
   "metadata": {},
   "outputs": [
    {
     "data": {
      "text/plain": [
       "array(['Adjective', 'Preposition', 'Modal', 'Noun', 'Determiner', 'Verb',\n",
       "       'Adverb', 'Pronoun'], dtype=object)"
      ]
     },
     "execution_count": 79,
     "metadata": {},
     "output_type": "execute_result"
    }
   ],
   "source": [
    "# recode labels for part of speech \n",
    "df['POS'] = df['POS'].replace({'NN': 'Noun', 'IN': 'Preposition', 'NNS': 'Noun', 'RB': 'Adverb', 'DT': 'Determiner', 'WRB': 'Pronoun', 'PRP$': 'Pronoun', 'PRP': 'Pronoun', 'MD': 'Modal', 'VBD': 'Verb', 'VBG': 'Verb', 'CD': 'Determiner', 'WP$': 'Pronoun', 'JJ': 'Adjective', 'WP': 'Pronoun', 'VBN': 'Verb'})\n",
    "df['POS'].unique()"
   ]
  },
  {
   "cell_type": "markdown",
   "id": "ba4a2fdd-280a-439f-a7d8-f7c1f3288cfc",
   "metadata": {},
   "source": [
    "The following boxplot shows similar results to the function word/content word distinction. Determiners, modals, prepositions, and pronouns have lower mean surprisals while while nouns, verbs, adjectives, and adverbs have higher mean surprisals. The exact average values are also calculated below."
   ]
  },
  {
   "cell_type": "code",
   "execution_count": 105,
   "id": "55fe04f0-36aa-4ab9-a7a7-805c8fe718d2",
   "metadata": {},
   "outputs": [
    {
     "data": {
      "image/png": "[encoded data removed]",
      "text/plain": [
       "<Figure size 800x600 with 1 Axes>"
      ]
     },
     "metadata": {},
     "output_type": "display_data"
    }
   ],
   "source": [
    "plt.figure(figsize=(8, 6))\n",
    "palette={'Adjective':'#EEC095', 'Preposition':'#AA5F2C', 'Modal':'#D2207E', 'Noun':'#88C088', 'Determiner':'#476EA1', 'Verb':'#BFB3CF', 'Adverb':'#F2F2A6', 'Pronoun':'#666666'}\n",
    "sns.boxplot(data=df, x='POS', y='Mean Surprisal', order=df.groupby('POS')['Mean Surprisal'].median().sort_values(ascending=False).index, palette=palette)\n",
    "plt.title('Distribution of Mean Surprisal by Part of Speech')\n",
    "plt.xlabel('Part of Speech')\n",
    "plt.ylabel('Mean Surprisal')\n",
    "plt.show()"
   ]
  },
  {
   "cell_type": "code",
   "execution_count": 97,
   "id": "1db87626-9eb8-4318-88d6-573fa9ea06d2",
   "metadata": {},
   "outputs": [
    {
     "name": "stdout",
     "output_type": "stream",
     "text": [
      "Average of mean surprisals by part of speech\n",
      "Nouns: 10.59 bits\n",
      "Pronouns: 6.49 bits\n",
      "Verbs: 10.29 bits\n",
      "Prespositions: 6.40 bits\n",
      "Adverbs: 8.42 bits\n",
      "Determiners: 8.58 bits\n",
      "Modals: 8.00 bits\n"
     ]
    }
   ],
   "source": [
    "# average mean of means by part of speech\n",
    "print(\"Average of mean surprisals by part of speech\")\n",
    "print(\"Nouns: \" + f\"{df[df['POS']=='Noun']['Mean Surprisal'].mean():.2f}\" + \" bits\")\n",
    "print(\"Pronouns: \" + f\"{df[df['POS']=='Pronoun']['Mean Surprisal'].mean():.2f}\" + \" bits\")\n",
    "print(\"Verbs: \" + f\"{df[df['POS']=='Verb']['Mean Surprisal'].mean():.2f}\" + \" bits\")\n",
    "print(\"Prespositions: \" + f\"{df[df['POS']=='Preposition']['Mean Surprisal'].mean():.2f}\" + \" bits\")\n",
    "print(\"Adverbs: \" + f\"{df[df['POS']=='Adverb']['Mean Surprisal'].mean():.2f}\" + \" bits\")\n",
    "print(\"Determiners: \" + f\"{df[df['POS']=='Determiner']['Mean Surprisal'].mean():.2f}\" + \" bits\")\n",
    "print(\"Modals: \" + f\"{df[df['POS']=='Modal']['Mean Surprisal'].mean():.2f}\" + \" bits\")"
   ]
  },
  {
   "cell_type": "markdown",
   "id": "b89afb27-3967-42e7-a7c1-79a720b26123",
   "metadata": {},
   "source": [
    "When comparing the entropy of words by part of speech, pronouns, determiners, adverbs, prepositions and modals have higher median entropies while adjectives, verbs, and nouns have lower median entropies. This is sort of the reverse pattern as the pattern for mean surprisals and this is also mostly consistent with function words having lower surprisals but higher entropies. What's notable here is that adverbs have similar entropies to other function words even though they're typically categorized as content words. I think this is because some adverbs, especially those not modifying physical actions, have more grammatical than semantic roles in sentences, like *just* and *extremely*. "
   ]
  },
  {
   "cell_type": "code",
   "execution_count": 107,
   "id": "f09b25d3-7e1b-4767-99e3-ef0019dd1414",
   "metadata": {},
   "outputs": [
    {
     "data": {
      "image/png": "[encoded data removed]",
      "text/plain": [
       "<Figure size 800x600 with 1 Axes>"
      ]
     },
     "metadata": {},
     "output_type": "display_data"
    }
   ],
   "source": [
    "plt.figure(figsize=(8, 6))\n",
    "sns.boxplot(data=df, x='POS', y='Entropy', order=df.groupby('POS')['Entropy'].median().sort_values(ascending=False).index, palette=palette)\n",
    "plt.title('Distribution of Entropy by Part of Speech')\n",
    "plt.xlabel('Part of Speech')\n",
    "plt.ylabel('Entropy')\n",
    "plt.show()"
   ]
  },
  {
   "cell_type": "markdown",
   "id": "8ecf90ef-9010-4b8a-9716-c45fb5e91ceb",
   "metadata": {},
   "source": [
    "## Conclusion"
   ]
  },
  {
   "cell_type": "markdown",
   "id": "84626a56-2c49-43b2-bd68-37d4e9d887e9",
   "metadata": {},
   "source": [
    "Based on the results of my analysis of the BabyLM corpus using the language model GPT-2, function words generally have **lower surprisals** than content words, but **higher entropies** than content words. Specifically, pronouns have the lowest average surprisals but the highest entropies. This means that when a language model is predicting the next word in a sentence, function words are less surprising and less informative. This makes sense, because function words generally don't have much meaning tied to them. Content words are more informative and thus have higher surprisal values, but becaues there is such a large set of possible content words (a greater set than the limited number of function words), they also have high uncertainty/entropy. Notably, this was a fairly small-scale project due to computing power limitations. I would run it again on a much larger set of words and a larger corpus if possible for more reliable results."
   ]
  },
  {
   "cell_type": "markdown",
   "id": "73dc1c6b-2fae-44d5-80d2-26159d3e8eaa",
   "metadata": {},
   "source": [
    "#### Sources\n",
    "1. [https://en.wikipedia.org/wiki/Function_word](https://en.wikipedia.org/wiki/Function_word)\n",
    "2. [https://babylm.github.io/](https://babylm.github.io/)\n",
    "3. [https://github.com/kanishkamisra/minicons/blob/master/examples/surprisals.md](https://github.com/kanishkamisra/minicons/blob/master/examples/surprisals.md)\n",
    "4. [https://www.learntek.org/blog/categorizing-pos-tagging-nltk-python/](https://www.learntek.org/blog/categorizing-pos-tagging-nltk-python/)"
   ]
  }
 ],
 "metadata": {
  "kernelspec": {
   "display_name": "Python 3 (ipykernel)",
   "language": "python",
   "name": "python3"
  },
  "language_info": {
   "codemirror_mode": {
    "name": "ipython",
    "version": 3
   },
   "file_extension": ".py",
   "mimetype": "text/x-python",
   "name": "python",
   "nbconvert_exporter": "python",
   "pygments_lexer": "ipython3",
   "version": "3.12.9"
  }
 },
 "nbformat": 4,
 "nbformat_minor": 5
}
